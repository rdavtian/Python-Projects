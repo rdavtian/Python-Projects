{
 "cells": [
  {
   "cell_type": "code",
   "execution_count": 16,
   "metadata": {},
   "outputs": [],
   "source": [
    "import matplotlib.pyplot as plt\n",
    "import os\n",
    "import pandas as pd\n",
    "import numpy as np\n",
    "\n",
    "from keras.models import Sequential\n",
    "from keras.layers import Dense, Conv2D, Flatten, MaxPool2D, BatchNormalization, Dropout\n",
    "from keras.utils.np_utils import to_categorical \n",
    "from keras.callbacks import ModelCheckpoint, EarlyStopping\n",
    "from sklearn.model_selection import train_test_split\n",
    "from keras.optimizers import Adadelta\n",
    "#import keras"
   ]
  },
  {
   "cell_type": "code",
   "execution_count": 2,
   "metadata": {
    "collapsed": true
   },
   "outputs": [],
   "source": [
    "train = pd.read_csv('E:/MNIST/train.csv')\n",
    "test = pd.read_csv('E:/MNIST/test.csv')"
   ]
  },
  {
   "cell_type": "code",
   "execution_count": 3,
   "metadata": {},
   "outputs": [
    {
     "data": {
      "image/png": "[encoded data removed]",
      "text/plain": [
       "<matplotlib.figure.Figure at 0x24d16529358>"
      ]
     },
     "metadata": {},
     "output_type": "display_data"
    }
   ],
   "source": [
    "y_train = train['label']\n",
    "X_train = train.drop('label', axis = 1)\n",
    "#X_train = X_train.values.reshape(42000, 28, 28)\n",
    "\n",
    "y_train.value_counts(sort = False).plot(kind = 'bar')\n",
    "plt.show()"
   ]
  },
  {
   "cell_type": "code",
   "execution_count": 4,
   "metadata": {
    "collapsed": true
   },
   "outputs": [],
   "source": [
    "#print(X_train.isnull().sum().sum())\n",
    "#print(y_train.isnull().sum())\n",
    "\n",
    "X_train = X_train.values.reshape(-1,28,28,1)\n",
    "test = test.values.reshape(-1,28,28,1)"
   ]
  },
  {
   "cell_type": "code",
   "execution_count": 5,
   "metadata": {
    "collapsed": true
   },
   "outputs": [],
   "source": [
    "y_train = to_categorical(y_train, num_classes = 10)"
   ]
  },
  {
   "cell_type": "code",
   "execution_count": 6,
   "metadata": {
    "collapsed": true
   },
   "outputs": [],
   "source": [
    "X_train, X_val, y_train, y_val = train_test_split(X_train, y_train, test_size = 0.15, random_state = 1)"
   ]
  },
  {
   "cell_type": "code",
   "execution_count": 7,
   "metadata": {
    "collapsed": true
   },
   "outputs": [],
   "source": [
    "# Normalizing data\n",
    "X_train = X_train / 255.0\n",
    "X_val = X_val / 255.0"
   ]
  },
  {
   "cell_type": "code",
   "execution_count": 442,
   "metadata": {
    "collapsed": true
   },
   "outputs": [],
   "source": [
    "# Conv2D (32,3*3, relu, padding = valid, stides = 1), MaxPool2d(2,2), BatchNormalization, Dropout = 0.25\n",
    "# Conv2D(64, 3*3, relu), MaxPool2D(2,2), BatchNormalization, Dropout = 0.25\n",
    "# Flattten, Dense(128, relu), Dropout(0.3), Dense(10, softmax)\n",
    "# 98.914\n",
    "\n",
    "model = Sequential()\n",
    "model.add(Conv2D(16, kernel_size = (3,3), activation = 'relu', input_shape = (28,28,1)))\n",
    "model.add(BatchNormalization())\n",
    "#model.add(MaxPool2D(strides = (2,2)))\n",
    "#model.add(Dropout(0.4))\n",
    "\n",
    "model.add(Conv2D(16, kernel_size = (3,3), activation = 'relu'))\n",
    "model.add(BatchNormalization())\n",
    "model.add(MaxPool2D(strides=(2,2)))\n",
    "model.add(Dropout(0.25))\n",
    "\n",
    "model.add(Conv2D(32, kernel_size = (3,3), activation = 'relu'))\n",
    "model.add(BatchNormalization())\n",
    "#model.add(MaxPool2D(strides = (2,2)))\n",
    "#model.add(Dropout(0.4))\n",
    "\n",
    "model.add(Conv2D(32, kernel_size = (3,3), activation = 'relu'))\n",
    "model.add(BatchNormalization())\n",
    "model.add(MaxPool2D(strides = (2,2)))\n",
    "model.add(Dropout(0.25))\n",
    "\n",
    "model.add(Flatten())\n",
    "model.add(Dense(512, activation = 'relu'))\n",
    "model.add(Dropout(0.25))\n",
    "model.add(Dense(1024, activation = 'relu'))\n",
    "model.add(Dropout(0.5))\n",
    "model.add(Dense(10, activation = 'softmax'))\n",
    "#model.summary()"
   ]
  },
  {
   "cell_type": "code",
   "execution_count": 23,
   "metadata": {},
   "outputs": [
    {
     "name": "stdout",
     "output_type": "stream",
     "text": [
      "_________________________________________________________________\n",
      "Layer (type)                 Output Shape              Param #   \n",
      "=================================================================\n",
      "conv2d_11 (Conv2D)           (None, 28, 28, 32)        320       \n",
      "_________________________________________________________________\n",
      "max_pooling2d_10 (MaxPooling (None, 14, 14, 32)        0         \n",
      "_________________________________________________________________\n",
      "dropout_13 (Dropout)         (None, 14, 14, 32)        0         \n",
      "_________________________________________________________________\n",
      "conv2d_12 (Conv2D)           (None, 12, 12, 64)        18496     \n",
      "_________________________________________________________________\n",
      "max_pooling2d_11 (MaxPooling (None, 6, 6, 64)          0         \n",
      "_________________________________________________________________\n",
      "dropout_14 (Dropout)         (None, 6, 6, 64)          0         \n",
      "_________________________________________________________________\n",
      "conv2d_13 (Conv2D)           (None, 4, 4, 128)         73856     \n",
      "_________________________________________________________________\n",
      "max_pooling2d_12 (MaxPooling (None, 2, 2, 128)         0         \n",
      "_________________________________________________________________\n",
      "dropout_15 (Dropout)         (None, 2, 2, 128)         0         \n",
      "_________________________________________________________________\n",
      "flatten_4 (Flatten)          (None, 512)               0         \n",
      "_________________________________________________________________\n",
      "dense_7 (Dense)              (None, 256)               131328    \n",
      "_________________________________________________________________\n",
      "dropout_16 (Dropout)         (None, 256)               0         \n",
      "_________________________________________________________________\n",
      "dense_8 (Dense)              (None, 10)                2570      \n",
      "=================================================================\n",
      "Total params: 226,570\n",
      "Trainable params: 226,570\n",
      "Non-trainable params: 0\n",
      "_________________________________________________________________\n"
     ]
    }
   ],
   "source": [
    "model = Sequential()\n",
    "\n",
    "model.add(Conv2D(32, kernel_size = (3,3), activation = 'relu', padding = 'same', strides = 1, input_shape = (28, 28, 1)))\n",
    "model.add(MaxPool2D(pool_size = (2,2)))\n",
    "model.add(Dropout(0.20))\n",
    "\n",
    "model.add(Conv2D(64, kernel_size = (3,3), activation = 'relu'))\n",
    "model.add(MaxPool2D(pool_size = (2,2)))\n",
    "model.add(Dropout(0.20))\n",
    "\n",
    "model.add(Conv2D(128, kernel_size = (3,3), activation = 'relu'))\n",
    "model.add(MaxPool2D(pool_size = (2,2)))\n",
    "model.add(Dropout(0.20))\n",
    "\n",
    "model.add(Flatten())\n",
    "model.add(Dense(256, activation = 'relu'))\n",
    "model.add(Dropout(0.20))\n",
    "model.add(Dense(10, activation = 'softmax'))\n",
    "model.summary()"
   ]
  },
  {
   "cell_type": "code",
   "execution_count": 24,
   "metadata": {},
   "outputs": [],
   "source": [
    "model.compile(optimizer = keras.optimizers.Adadelta(), loss = 'categorical_crossentropy', metrics = ['accuracy'])"
   ]
  },
  {
   "cell_type": "code",
   "execution_count": 34,
   "metadata": {},
   "outputs": [
    {
     "name": "stdout",
     "output_type": "stream",
     "text": [
      "Train on 28560 samples, validate on 7140 samples\n",
      "Epoch 1/25\n",
      "28560/28560 [==============================] - 84s 3ms/step - loss: 0.0294 - acc: 0.9908 - val_loss: 0.0355 - val_acc: 0.9899\n",
      "Epoch 2/25\n",
      "28560/28560 [==============================] - 80s 3ms/step - loss: 0.0271 - acc: 0.9911 - val_loss: 0.0395 - val_acc: 0.9889\n",
      "Epoch 3/25\n",
      "28560/28560 [==============================] - 77s 3ms/step - loss: 0.0245 - acc: 0.9922 - val_loss: 0.0328 - val_acc: 0.9901\n",
      "Epoch 4/25\n",
      "28560/28560 [==============================] - 76s 3ms/step - loss: 0.0217 - acc: 0.9936 - val_loss: 0.0404 - val_acc: 0.9892\n",
      "Epoch 5/25\n",
      "28560/28560 [==============================] - 77s 3ms/step - loss: 0.0195 - acc: 0.9934 - val_loss: 0.0375 - val_acc: 0.9899\n",
      "Epoch 6/25\n",
      "28560/28560 [==============================] - 84s 3ms/step - loss: 0.0178 - acc: 0.9940 - val_loss: 0.0386 - val_acc: 0.9903\n"
     ]
    }
   ],
   "source": [
    "early_stopping_monitor = EarlyStopping(patience=3)\n",
    "checkpoint = ModelCheckpoint('weights.hdf5', monitor = 'val_loss', save_best_only = True)\n",
    "callbacks_list = [checkpoint, early_stopping_monitor]\n",
    "history = model.fit(X_train, y_train, epochs = 25, validation_split = 0.2, callbacks = callbacks_list, batch_size = 32)"
   ]
  },
  {
   "cell_type": "code",
   "execution_count": 47,
   "metadata": {},
   "outputs": [
    {
     "data": {
      "image/png": "[encoded data removed]",
      "text/plain": [
       "<matplotlib.figure.Figure at 0x24d540fdf98>"
      ]
     },
     "metadata": {},
     "output_type": "display_data"
    },
    {
     "data": {
      "image/png": "[encoded data removed]",
      "text/plain": [
       "<matplotlib.figure.Figure at 0x24d540a8160>"
      ]
     },
     "metadata": {},
     "output_type": "display_data"
    }
   ],
   "source": [
    "model_history = history.history\n",
    "validation_accu = model_history['val_acc']\n",
    "model_loss = model_history['loss']\n",
    "validation_loss = model_history['val_loss']\n",
    "model_accu = model_history['acc']\n",
    "epochs = range(len(model_accu))\n",
    "\n",
    "#plot for validation accuracy and Training Accuracy\n",
    "plt.figure(figsize = (14,10))\n",
    "plt.subplot(211)\n",
    "plt.plot(epochs, validation_accu, 'r', label = 'Validation Accuracy')\n",
    "plt.plot(epochs, model_accu, 'b', label = 'Training Accuracy')\n",
    "plt.ylim([0.98,0.995])\n",
    "plt.xlabel('Epochs')\n",
    "plt.ylabel('Accuracy')\n",
    "plt.title('Validation Accuracy vs Training Accuracy')\n",
    "plt.legend()\n",
    "\n",
    "#plot for validation loss and Training loss\n",
    "plt.figure(figsize = (14,10))\n",
    "plt.subplot(212)\n",
    "plt.plot(epochs, validation_loss, 'r', label = 'Validation Loss')\n",
    "plt.plot(epochs, model_loss, 'b', label = 'Training Loss')\n",
    "plt.ylim([0,0.05])\n",
    "plt.xlabel('Epochs')\n",
    "plt.ylabel('Loss')\n",
    "plt.title('Validation Loss vs Training Loss')\n",
    "plt.legend()\n",
    "\n",
    "plt.show()"
   ]
  },
  {
   "cell_type": "code",
   "execution_count": 44,
   "metadata": {
    "collapsed": true
   },
   "outputs": [],
   "source": [
    "model.load_weights('weights.hdf5')\n",
    "preds = model.predict_classes(X_val)"
   ]
  },
  {
   "cell_type": "code",
   "execution_count": 45,
   "metadata": {},
   "outputs": [
    {
     "name": "stdout",
     "output_type": "stream",
     "text": [
      "Testing Accuracy = 99.08 %\n"
     ]
    }
   ],
   "source": [
    "count = 0\n",
    "for i in range(len(y_val)):\n",
    "    if preds[i] == pd.Series(y_val[i]).idxmax():\n",
    "        count = count + 1\n",
    "print('Testing Accuracy = ' + str(round(count / len(preds),4)*100) + ' %')"
   ]
  },
  {
   "cell_type": "code",
   "execution_count": 38,
   "metadata": {
    "collapsed": true
   },
   "outputs": [],
   "source": [
    "preds = model.predict_classes(test / 255.0)\n",
    "index = []\n",
    "for i in range(28000):\n",
    "    index.append(i+1)\n",
    "dict = {'ImageId': index, 'Label': preds}\n",
    "df = pd.DataFrame(dict)\n",
    "df.to_csv('MNISTpreds.csv', index = False)"
   ]
  },
  {
   "cell_type": "code",
   "execution_count": null,
   "metadata": {
    "collapsed": true
   },
   "outputs": [],
   "source": []
  }
 ],
 "metadata": {
  "kernelspec": {
   "display_name": "Python 3",
   "language": "python",
   "name": "python3"
  },
  "language_info": {
   "codemirror_mode": {
    "name": "ipython",
    "version": 3
   },
   "file_extension": ".py",
   "mimetype": "text/x-python",
   "name": "python",
   "nbconvert_exporter": "python",
   "pygments_lexer": "ipython3",
   "version": "3.7.4"
  }
 },
 "nbformat": 4,
 "nbformat_minor": 2
}
